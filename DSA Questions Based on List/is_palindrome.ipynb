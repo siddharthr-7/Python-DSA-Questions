{
 "cells": [
  {
   "cell_type": "code",
   "execution_count": 10,
   "id": "32c241a1-518f-4096-a027-1c091c066cf2",
   "metadata": {},
   "outputs": [
    {
     "name": "stdout",
     "output_type": "stream",
     "text": [
      "Is Palindrome : True\n"
     ]
    }
   ],
   "source": [
    "def is_pal(lst):\n",
    "    left = 0\n",
    "    right = len(lst)-1\n",
    "\n",
    "    while left < right:\n",
    "        if lst[left] != lst[right]:\n",
    "            return False # Mismatch found\n",
    "        left +=1\n",
    "        right -=1\n",
    "    return True # All matched\n",
    "\n",
    "lst = [1,2,3,2,1]\n",
    "print(\"Is Palindrome :\",is_pal(lst))"
   ]
  },
  {
   "cell_type": "code",
   "execution_count": null,
   "id": "eded1b3b-1543-4ed8-a316-95c17f929e80",
   "metadata": {},
   "outputs": [],
   "source": []
  }
 ],
 "metadata": {
  "kernelspec": {
   "display_name": "anaconda-ai-2024.04-py310",
   "language": "python",
   "name": "conda-env-anaconda-ai-2024.04-py310-py"
  },
  "language_info": {
   "codemirror_mode": {
    "name": "ipython",
    "version": 3
   },
   "file_extension": ".py",
   "mimetype": "text/x-python",
   "name": "python",
   "nbconvert_exporter": "python",
   "pygments_lexer": "ipython3",
   "version": "3.10.13"
  }
 },
 "nbformat": 4,
 "nbformat_minor": 5
}
