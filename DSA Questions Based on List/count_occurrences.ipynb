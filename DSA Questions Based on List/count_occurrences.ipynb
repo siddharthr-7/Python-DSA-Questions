{
 "cells": [
  {
   "cell_type": "code",
   "execution_count": 4,
   "id": "32b80bab-c4bd-45f0-9340-258bc4f5fde0",
   "metadata": {},
   "outputs": [
    {
     "name": "stdout",
     "output_type": "stream",
     "text": [
      "Occurrences of 5: 1\n"
     ]
    }
   ],
   "source": [
    "def count_occurrences(lst, target):\n",
    "    count = 0\n",
    "    for num in lst:\n",
    "        if num == target:\n",
    "            count += 1\n",
    "    return count\n",
    "\n",
    "# Example usage\n",
    "my_list = [3, 1, 4, 1, 5, 1]\n",
    "target_value = 5\n",
    "result = count_occurrences(my_list, target_value)\n",
    "print(f\"Occurrences of {target_value}:\", result)\n"
   ]
  },
  {
   "cell_type": "code",
   "execution_count": 5,
   "id": "d6d5b2ad-1314-4a84-a014-42312e4a4fff",
   "metadata": {},
   "outputs": [
    {
     "name": "stdout",
     "output_type": "stream",
     "text": [
      "Occurrences of 2: 0\n"
     ]
    }
   ],
   "source": [
    "def count_occurences(lst,target):\n",
    "    count = 0\n",
    "    \n",
    "    for num in lst:\n",
    "        if num == target:\n",
    "            count +=1\n",
    "    return count\n",
    "\n",
    "\n",
    "lst = [1,4,2,1,2,3,4,5,9]\n",
    "target_value = 2\n",
    "result = count_occurences(my_list, target_value)\n",
    "print(f\"Occurrences of {target_value}:\", result)\n"
   ]
  },
  {
   "cell_type": "code",
   "execution_count": 6,
   "id": "90c0448e-f671-418a-8dcf-12120c2e926e",
   "metadata": {},
   "outputs": [
    {
     "name": "stdout",
     "output_type": "stream",
     "text": [
      "Occurrences of all elements: {3: 1, 1: 3, 4: 1, 5: 1}\n"
     ]
    }
   ],
   "source": [
    "def count_all_occurrences(lst):\n",
    "    frequency = {}\n",
    "    for num in lst:\n",
    "        if num in frequency:\n",
    "            frequency[num] += 1\n",
    "        else:\n",
    "            frequency[num] = 1\n",
    "    return frequency\n",
    "\n",
    "# Example usage\n",
    "my_list = [3, 1, 4, 1, 5, 1]\n",
    "result = count_all_occurrences(my_list)\n",
    "print(\"Occurrences of all elements:\", result)\n"
   ]
  },
  {
   "cell_type": "code",
   "execution_count": null,
   "id": "49a7276c-e509-4c92-b49c-2be9423f0b59",
   "metadata": {},
   "outputs": [],
   "source": []
  }
 ],
 "metadata": {
  "kernelspec": {
   "display_name": "anaconda-ai-2024.04-py310",
   "language": "python",
   "name": "conda-env-anaconda-ai-2024.04-py310-py"
  },
  "language_info": {
   "codemirror_mode": {
    "name": "ipython",
    "version": 3
   },
   "file_extension": ".py",
   "mimetype": "text/x-python",
   "name": "python",
   "nbconvert_exporter": "python",
   "pygments_lexer": "ipython3",
   "version": "3.10.13"
  }
 },
 "nbformat": 4,
 "nbformat_minor": 5
}
