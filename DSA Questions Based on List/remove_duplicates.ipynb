{
 "cells": [
  {
   "cell_type": "code",
   "execution_count": 9,
   "id": "36e22115-2c92-4c74-9aa7-ec251206e50d",
   "metadata": {},
   "outputs": [
    {
     "name": "stdout",
     "output_type": "stream",
     "text": [
      "List without duplicates : [1, 2, 3, 5, 4]\n"
     ]
    }
   ],
   "source": [
    "def remove_duplictes(lst):\n",
    "    unique_list = []\n",
    "    for num in lst:\n",
    "        if num not in unique_lst:\n",
    "            unique_list.append(num)\n",
    "    return unique_list\n",
    "\n",
    "lst  = [1,2,3,3,3,5,5,4,2,1,1]\n",
    "x = remove_duplicates(lst)\n",
    "print(\"List without duplicates :\",x)"
   ]
  },
  {
   "cell_type": "code",
   "execution_count": null,
   "id": "f6507645-2457-4300-827f-d89278389d9c",
   "metadata": {},
   "outputs": [],
   "source": []
  }
 ],
 "metadata": {
  "kernelspec": {
   "display_name": "anaconda-ai-2024.04-py310",
   "language": "python",
   "name": "conda-env-anaconda-ai-2024.04-py310-py"
  },
  "language_info": {
   "codemirror_mode": {
    "name": "ipython",
    "version": 3
   },
   "file_extension": ".py",
   "mimetype": "text/x-python",
   "name": "python",
   "nbconvert_exporter": "python",
   "pygments_lexer": "ipython3",
   "version": "3.10.13"
  }
 },
 "nbformat": 4,
 "nbformat_minor": 5
}
