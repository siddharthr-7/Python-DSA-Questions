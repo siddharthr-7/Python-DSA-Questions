{
 "cells": [
  {
   "cell_type": "code",
   "execution_count": 3,
   "id": "b0b3cebd-cb31-4c35-88a9-621b268d2537",
   "metadata": {},
   "outputs": [
    {
     "name": "stdout",
     "output_type": "stream",
     "text": [
      "Sorted list: [1, 2, 5, 5, 9]\n"
     ]
    }
   ],
   "source": [
    "def insertion_sort(lst):\n",
    "    n = len(lst)\n",
    "    for i in range(1, n):\n",
    "        key = lst[i]  # The element to insert\n",
    "        j = i - 1\n",
    "        \n",
    "        # Move elements of lst[0..i-1] that are greater than key\n",
    "        while j >= 0 and lst[j] > key:\n",
    "            lst[j + 1] = lst[j]\n",
    "            j -= 1\n",
    "        \n",
    "        # Insert key at the correct position\n",
    "        lst[j + 1] = key\n",
    "        \n",
    "    return lst\n",
    "\n",
    "# Example usage\n",
    "my_list = [5,2,9,1,5]\n",
    "sorted_list = insertion_sort(my_list)\n",
    "print(\"Sorted list:\", sorted_list) "
   ]
  },
  {
   "cell_type": "code",
   "execution_count": null,
   "id": "3797d98a-2255-459c-82d3-6ee9c5a38e79",
   "metadata": {},
   "outputs": [],
   "source": []
  }
 ],
 "metadata": {
  "kernelspec": {
   "display_name": "anaconda-ai-2024.04-py310",
   "language": "python",
   "name": "conda-env-anaconda-ai-2024.04-py310-py"
  },
  "language_info": {
   "codemirror_mode": {
    "name": "ipython",
    "version": 3
   },
   "file_extension": ".py",
   "mimetype": "text/x-python",
   "name": "python",
   "nbconvert_exporter": "python",
   "pygments_lexer": "ipython3",
   "version": "3.10.13"
  }
 },
 "nbformat": 4,
 "nbformat_minor": 5
}
