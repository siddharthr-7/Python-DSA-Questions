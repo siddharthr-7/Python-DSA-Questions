{
 "cells": [
  {
   "cell_type": "code",
   "execution_count": 2,
   "id": "d99141f2-8bcd-40d4-97e8-e30ba7cd4ca6",
   "metadata": {},
   "outputs": [
    {
     "name": "stdout",
     "output_type": "stream",
     "text": [
      "Largest:  9\n",
      "Smallest:  1\n"
     ]
    }
   ],
   "source": [
    "def find_smallest_largest(lst):\n",
    "    \n",
    "     # Initialize largest and smallest with the first element\n",
    "    largest = lst[0]\n",
    "    smallest = lst[0]\n",
    "    \n",
    "    # Step 2: Traverse the list from the second element on wards\n",
    "    for num in lst[1:]:\n",
    "        if num > largest:\n",
    "            largest = num\n",
    "        if num < smallest:\n",
    "            smallest = num\n",
    "\n",
    "    return largest, smallest\n",
    "\n",
    "\n",
    "lst = [3,1,5,6,9,2]\n",
    "largest, smallest = find_smallest_largest(lst)\n",
    "print(\"Largest: \",largest)\n",
    "print(\"Smallest: \", smallest)"
   ]
  },
  {
   "cell_type": "code",
   "execution_count": null,
   "id": "52942190-cb0f-4060-aaad-4bbb888adf6e",
   "metadata": {},
   "outputs": [],
   "source": []
  }
 ],
 "metadata": {
  "kernelspec": {
   "display_name": "anaconda-ai-2024.04-py310",
   "language": "python",
   "name": "conda-env-anaconda-ai-2024.04-py310-py"
  },
  "language_info": {
   "codemirror_mode": {
    "name": "ipython",
    "version": 3
   },
   "file_extension": ".py",
   "mimetype": "text/x-python",
   "name": "python",
   "nbconvert_exporter": "python",
   "pygments_lexer": "ipython3",
   "version": "3.10.13"
  }
 },
 "nbformat": 4,
 "nbformat_minor": 5
}
