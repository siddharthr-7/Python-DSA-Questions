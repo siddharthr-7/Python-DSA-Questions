{
 "cells": [
  {
   "cell_type": "code",
   "execution_count": 10,
   "id": "7b1ec7d2-6a64-4b45-9010-efc05dc8c11c",
   "metadata": {},
   "outputs": [
    {
     "name": "stdout",
     "output_type": "stream",
     "text": [
      "3\n"
     ]
    }
   ],
   "source": [
    "def find_missing_num(lst):  \n",
    "    n = len(lst)+1\n",
    "    expected_sum = n*(n+1)//2\n",
    "    actual_sum = 0\n",
    "\n",
    "    for i in lst:\n",
    "        actual_sum+= i\n",
    "    return expected_sum - actual_sum\n",
    "\n",
    "lst = [1,2,4,5,6]\n",
    "skip = find_missing_num(lst)\n",
    "print(skip)"
   ]
  },
  {
   "cell_type": "code",
   "execution_count": null,
   "id": "7d6fada5-65ce-45ef-b2a0-8f2e0fa9b523",
   "metadata": {},
   "outputs": [],
   "source": []
  }
 ],
 "metadata": {
  "kernelspec": {
   "display_name": "anaconda-ai-2024.04-py310",
   "language": "python",
   "name": "conda-env-anaconda-ai-2024.04-py310-py"
  },
  "language_info": {
   "codemirror_mode": {
    "name": "ipython",
    "version": 3
   },
   "file_extension": ".py",
   "mimetype": "text/x-python",
   "name": "python",
   "nbconvert_exporter": "python",
   "pygments_lexer": "ipython3",
   "version": "3.10.13"
  }
 },
 "nbformat": 4,
 "nbformat_minor": 5
}
