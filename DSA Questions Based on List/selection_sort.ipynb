{
 "cells": [
  {
   "cell_type": "code",
   "execution_count": 1,
   "id": "4331f31f-7a4d-4430-aae5-61009571eed9",
   "metadata": {},
   "outputs": [
    {
     "name": "stdout",
     "output_type": "stream",
     "text": [
      "Sorted list: [11, 12, 22, 25, 64]\n"
     ]
    }
   ],
   "source": [
    "def selection_sort(lst):\n",
    "    n = len(lst)\n",
    "    for i in range(n):\n",
    "        min_index = i  # Assume the current position holds the smallest element\n",
    "        \n",
    "        # Find the smallest element in the unsorted part\n",
    "        for j in range(i + 1, n):\n",
    "            if lst[j] < lst[min_index]:\n",
    "                min_index = j  # Update the index of the smallest element\n",
    "        \n",
    "        # Swap the found smallest element with the first unsorted element\n",
    "        lst[i], lst[min_index] = lst[min_index], lst[i]\n",
    "        \n",
    "    return lst\n",
    "\n",
    "# Example usage\n",
    "my_list = [64, 25, 12, 22, 11]\n",
    "sorted_list = selection_sort(my_list)\n",
    "print(\"Sorted list:\", sorted_list)\n"
   ]
  },
  {
   "cell_type": "code",
   "execution_count": null,
   "id": "9fe63c1d-1a08-431b-8437-9b2a62e2c847",
   "metadata": {},
   "outputs": [],
   "source": []
  }
 ],
 "metadata": {
  "kernelspec": {
   "display_name": "anaconda-ai-2024.04-py310",
   "language": "python",
   "name": "conda-env-anaconda-ai-2024.04-py310-py"
  },
  "language_info": {
   "codemirror_mode": {
    "name": "ipython",
    "version": 3
   },
   "file_extension": ".py",
   "mimetype": "text/x-python",
   "name": "python",
   "nbconvert_exporter": "python",
   "pygments_lexer": "ipython3",
   "version": "3.10.13"
  }
 },
 "nbformat": 4,
 "nbformat_minor": 5
}
