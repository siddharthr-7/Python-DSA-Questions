{
 "cells": [
  {
   "cell_type": "code",
   "execution_count": 1,
   "id": "be00577f-b1bc-4738-83a6-86771285b7a7",
   "metadata": {},
   "outputs": [
    {
     "name": "stdout",
     "output_type": "stream",
     "text": [
      "Sorted list: [1, 2, 4, 5, 8]\n"
     ]
    }
   ],
   "source": [
    "def bubble_sort(lst):\n",
    "    n = len(lst)\n",
    "    for i in range(n):\n",
    "        # Track if any swap happens in this pass\n",
    "        swapped = False\n",
    "        \n",
    "        # Last i elements are already sorted\n",
    "        for j in range(0, n - 1 - i):\n",
    "            if lst[j] > lst[j + 1]:\n",
    "                # Swap if elements are in wrong order\n",
    "                lst[j], lst[j + 1] = lst[j + 1], lst[j]\n",
    "                swapped = True\n",
    "        \n",
    "        # If no swaps occurred, the list is sorted\n",
    "        if not swapped:\n",
    "            break\n",
    "    \n",
    "    return lst\n",
    "\n",
    "# Example usage\n",
    "my_list = [5, 1, 4, 2, 8]\n",
    "sorted_list = bubble_sort(my_list)\n",
    "print(\"Sorted list:\", sorted_list)"
   ]
  },
  {
   "cell_type": "code",
   "execution_count": null,
   "id": "99f8cce7-9bbd-41ec-aa65-95a50914923b",
   "metadata": {},
   "outputs": [],
   "source": []
  }
 ],
 "metadata": {
  "kernelspec": {
   "display_name": "anaconda-ai-2024.04-py310",
   "language": "python",
   "name": "conda-env-anaconda-ai-2024.04-py310-py"
  },
  "language_info": {
   "codemirror_mode": {
    "name": "ipython",
    "version": 3
   },
   "file_extension": ".py",
   "mimetype": "text/x-python",
   "name": "python",
   "nbconvert_exporter": "python",
   "pygments_lexer": "ipython3",
   "version": "3.10.13"
  }
 },
 "nbformat": 4,
 "nbformat_minor": 5
}
