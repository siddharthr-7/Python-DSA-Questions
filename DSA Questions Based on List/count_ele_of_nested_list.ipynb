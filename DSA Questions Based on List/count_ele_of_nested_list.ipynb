{
  "nbformat": 4,
  "nbformat_minor": 0,
  "metadata": {
    "colab": {
      "provenance": []
    },
    "kernelspec": {
      "name": "python3",
      "display_name": "Python 3"
    },
    "language_info": {
      "name": "python"
    }
  },
  "cells": [
    {
      "cell_type": "code",
      "source": [
        "lst = [2,[1,2,3],6,[7,[9,10]]]\n",
        "\n",
        "def count_ele(lst):\n",
        "  count = 0\n",
        "  for item in lst:\n",
        "    if isinstance(item,list):\n",
        "      count += count_ele(item)\n",
        "    else:\n",
        "      count += 1\n",
        "  return count\n",
        "print(count_ele(lst))"
      ],
      "metadata": {
        "colab": {
          "base_uri": "https://localhost:8080/"
        },
        "id": "WoFxllJkp861",
        "outputId": "2392828e-7e4e-442b-9054-28f884fdd683"
      },
      "execution_count": 29,
      "outputs": [
        {
          "output_type": "stream",
          "name": "stdout",
          "text": [
            "8\n"
          ]
        }
      ]
    },
    {
      "cell_type": "code",
      "source": [],
      "metadata": {
        "id": "a6PbHt2xqmRa"
      },
      "execution_count": null,
      "outputs": []
    }
  ]
}