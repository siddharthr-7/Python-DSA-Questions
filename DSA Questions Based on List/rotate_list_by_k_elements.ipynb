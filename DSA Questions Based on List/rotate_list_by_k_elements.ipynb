{
 "cells": [
  {
   "cell_type": "code",
   "execution_count": 15,
   "id": "a6862e78-2a1f-4f60-b494-dd85cf14cedf",
   "metadata": {},
   "outputs": [
    {
     "name": "stdout",
     "output_type": "stream",
     "text": [
      "[4, 5, 1, 2, 3]\n"
     ]
    }
   ],
   "source": [
    "lst = [1,2,3,4,5]\n",
    "n = len(lst)\n",
    "k = 2\n",
    "start  = 0\n",
    "end = len(lst)-1\n",
    "\n",
    "def rotate_list(lst,start,end):\n",
    "    while start<end:\n",
    "        lst[start],lst[end] = lst[end],lst[start]\n",
    "        start+=1\n",
    "        end-=1\n",
    "    return lst\n",
    "\n",
    "\n",
    "rotate_list(lst,start,n-1)\n",
    "rotate_list(lst, start, k-1)\n",
    "rotate_list(lst, k,n-1)\n",
    "print(lst)"
   ]
  },
  {
   "cell_type": "code",
   "execution_count": null,
   "id": "c1fe0ee8-81cc-4178-a3c2-8a76a95da620",
   "metadata": {},
   "outputs": [],
   "source": []
  }
 ],
 "metadata": {
  "kernelspec": {
   "display_name": "anaconda-ai-2024.04-py310",
   "language": "python",
   "name": "conda-env-anaconda-ai-2024.04-py310-py"
  },
  "language_info": {
   "codemirror_mode": {
    "name": "ipython",
    "version": 3
   },
   "file_extension": ".py",
   "mimetype": "text/x-python",
   "name": "python",
   "nbconvert_exporter": "python",
   "pygments_lexer": "ipython3",
   "version": "3.10.13"
  }
 },
 "nbformat": 4,
 "nbformat_minor": 5
}
