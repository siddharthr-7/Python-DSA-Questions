{
 "cells": [
  {
   "cell_type": "code",
   "execution_count": 4,
   "id": "377a3cbe-a669-45d3-9326-20f61e13a4a7",
   "metadata": {},
   "outputs": [
    {
     "name": "stdout",
     "output_type": "stream",
     "text": [
      "[5, 4, 3, 2, 1]\n"
     ]
    }
   ],
   "source": [
    "#Reverse a list \n",
    "def reverse_list(lst):\n",
    "    reversed_list = []\n",
    "    index =  len(lst) - 1 # Start from the last index\n",
    "\n",
    "    while index >= 0:\n",
    "        reversed_list.append(lst[index])\n",
    "        index -=1   # Move to the previous element\n",
    "\n",
    "    return reversed_list \n",
    "\n",
    "my_list = [1,2,3,4,5]\n",
    "reversed_list = reverse_list(my_list)\n",
    "print(reversed_list)"
   ]
  },
  {
   "cell_type": "code",
   "execution_count": 8,
   "id": "e65d7609-9453-46f2-87eb-70b9bd1bea34",
   "metadata": {},
   "outputs": [
    {
     "name": "stdout",
     "output_type": "stream",
     "text": [
      "[5, 4, 3, 2, 1]\n"
     ]
    }
   ],
   "source": [
    "#Shortest Approach \n",
    "my_list = [1,2,3,4,5]\n",
    "reversed_list = my_list[::-1]\n",
    "print(reversed_list)"
   ]
  },
  {
   "cell_type": "code",
   "execution_count": 5,
   "id": "f8a450f1-3322-4481-adef-51815dbdc782",
   "metadata": {},
   "outputs": [
    {
     "name": "stdout",
     "output_type": "stream",
     "text": [
      "[5, 4, 3, 2, 1]\n"
     ]
    }
   ],
   "source": [
    "#Reverse a list using range function\n",
    "def reverse_list(lst):\n",
    "    reversed_list = []\n",
    "    index =  len(lst) - 1 # Start from the last index\n",
    "\n",
    "    for i in range(len(lst)-1,-1,-1):\n",
    "        reversed_list.append(lst[i])\n",
    "\n",
    "    return reversed_list \n",
    "\n",
    "my_list = [1,2,3,4,5]\n",
    "reversed_list = reverse_list(my_list)\n",
    "print(reversed_list)"
   ]
  },
  {
   "cell_type": "code",
   "execution_count": null,
   "id": "95a59e33-741b-4e83-86ae-a31815955090",
   "metadata": {},
   "outputs": [],
   "source": [
    "# Using Two Pointers\n",
    "def reverse_list(lst):\n",
    "    left = 0\n",
    "    right = len(lst) - 1\n",
    "    while left < right:\n",
    "        lst[left], lst[right] = lst[right], lst[left]\n",
    "        left += 1\n",
    "        right -= 1\n",
    "    return lst\n",
    "\n",
    "# Example usage\n",
    "my_list = [1, 2, 3, 4, 5]\n",
    "reversed_list = reverse_list(my_list)\n",
    "print(reversed_list)\n"
   ]
  },
  {
   "cell_type": "code",
   "execution_count": null,
   "id": "055dcd2a-5126-4e78-ac8f-8be5c5701af2",
   "metadata": {},
   "outputs": [],
   "source": []
  }
 ],
 "metadata": {
  "kernelspec": {
   "display_name": "anaconda-panel-2023.05-py310",
   "language": "python",
   "name": "conda-env-anaconda-panel-2023.05-py310-py"
  },
  "language_info": {
   "codemirror_mode": {
    "name": "ipython",
    "version": 3
   },
   "file_extension": ".py",
   "mimetype": "text/x-python",
   "name": "python",
   "nbconvert_exporter": "python",
   "pygments_lexer": "ipython3",
   "version": "3.11.5"
  }
 },
 "nbformat": 4,
 "nbformat_minor": 5
}
