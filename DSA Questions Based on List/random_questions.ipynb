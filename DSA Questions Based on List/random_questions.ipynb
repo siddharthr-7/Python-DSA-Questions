{
 "cells": [
  {
   "cell_type": "code",
   "execution_count": 1,
   "id": "8bcb8327-f777-45e1-8889-e734a619fb60",
   "metadata": {},
   "outputs": [
    {
     "name": "stdout",
     "output_type": "stream",
     "text": [
      "{'other'} {'this'} {'that'}\n"
     ]
    }
   ],
   "source": [
    "A={\"this\",\"that\"}\n",
    "B={\"that\",\"other\"}\n",
    "C={\"other\",\"this\"}\n",
    "while \"other\" in C:\n",
    "    if \"this\" in A:\n",
    "        A,B,C=A-B,B-C,C-A\n",
    "    if \"that\" in B:\n",
    "        A,B,C=C|A,A|B,B|C\n",
    "print(A,B,C)"
   ]
  },
  {
   "cell_type": "code",
   "execution_count": null,
   "id": "b6669798-e32f-4871-a775-f2aa3aeb52ef",
   "metadata": {},
   "outputs": [],
   "source": [
    "lst = [2,[1,2,3],6,[7,[9,10]]]\n",
    "def extend_list(lst):\n",
    "    new_lst = []\n",
    "    for item in lst:\n",
    "        if isinstance(item,list):\n",
    "            new_lst.extend(extend_list(item))\n",
    "        else:\n",
    "            new_lst.append(item)\n",
    "    \n",
    "    return new_lst\n",
    "print(extend_list(lst))"
   ]
  },
  {
   "cell_type": "code",
   "execution_count": null,
   "id": "3e78c459-229f-43bb-8997-bfb2c18ce61e",
   "metadata": {},
   "outputs": [],
   "source": [
    "import copy\n",
    "lst = [2,[1,2,3],6,[7,[9,10]]]\n",
    "new_lst = copy.copy(lst)\n",
    "new_lst[0] = 15\n",
    "print(new_lst)\n",
    "print(lst)\n",
    "\n"
   ]
  },
  {
   "cell_type": "code",
   "execution_count": null,
   "id": "2bc34c79-0890-4419-8945-4d683761d6b6",
   "metadata": {},
   "outputs": [],
   "source": [
    "lst = [2,[1,2,3],6,[7,[9,10]]]\n",
    "new_lst2 = copy.deepcopy(lst)\n",
    "new_lst[1][0] = 15\n",
    "print(new_lst)\n",
    "print(lst)"
   ]
  },
  {
   "cell_type": "code",
   "execution_count": null,
   "id": "23f3f558-b83f-497b-886b-e542bece9b3a",
   "metadata": {},
   "outputs": [],
   "source": [
    "lst_r = [2,[1,2,3],6,[7,[9,10]]]\n",
    "\n",
    "lst_r[3][0] = 0\n",
    "print(lst_r)"
   ]
  }
 ],
 "metadata": {
  "kernelspec": {
   "display_name": "anaconda-ai-2024.04-py310",
   "language": "python",
   "name": "conda-env-anaconda-ai-2024.04-py310-py"
  },
  "language_info": {
   "codemirror_mode": {
    "name": "ipython",
    "version": 3
   },
   "file_extension": ".py",
   "mimetype": "text/x-python",
   "name": "python",
   "nbconvert_exporter": "python",
   "pygments_lexer": "ipython3",
   "version": "3.10.13"
  }
 },
 "nbformat": 4,
 "nbformat_minor": 5
}
