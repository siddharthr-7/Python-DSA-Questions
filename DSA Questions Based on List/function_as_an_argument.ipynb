{
 "cells": [
  {
   "cell_type": "code",
   "execution_count": 1,
   "id": "f410ce8d-dbd6-4309-a642-74681f5ee7a4",
   "metadata": {},
   "outputs": [
    {
     "name": "stdout",
     "output_type": "stream",
     "text": [
      "Hello, Siddharth!\n"
     ]
    }
   ],
   "source": [
    "# A function that we want to pass as an argument\n",
    "def greet(name):\n",
    "    return f\"Hello, {name}!\"\n",
    "\n",
    "# A function that takes another function as an argument\n",
    "def custom_message(func, name):\n",
    "    message = func(name)\n",
    "    print(message)\n",
    "\n",
    "# Pass the 'greet' function as an argument\n",
    "custom_message(greet, \"Siddharth\")\n"
   ]
  }
 ],
 "metadata": {
  "kernelspec": {
   "display_name": "anaconda-ai-2024.04-py310",
   "language": "python",
   "name": "conda-env-anaconda-ai-2024.04-py310-py"
  },
  "language_info": {
   "codemirror_mode": {
    "name": "ipython",
    "version": 3
   },
   "file_extension": ".py",
   "mimetype": "text/x-python",
   "name": "python",
   "nbconvert_exporter": "python",
   "pygments_lexer": "ipython3",
   "version": "3.10.13"
  }
 },
 "nbformat": 4,
 "nbformat_minor": 5
}
