{
 "cells": [
  {
   "cell_type": "code",
   "execution_count": 6,
   "id": "0f4c2ea9-a21c-48c1-8381-083cd07d7730",
   "metadata": {},
   "outputs": [
    {
     "name": "stdout",
     "output_type": "stream",
     "text": [
      "[1, 2, 3]\n"
     ]
    }
   ],
   "source": [
    "def find_intersection(lst1,lst2):\n",
    "    new_lst = []\n",
    "    for i in lst1:\n",
    "        for j in lst2:\n",
    "            if i == j and i not in new_lst:\n",
    "                new_lst.append(i)\n",
    "    return new_lst\n",
    "\n",
    "lst1 = [1,2,3,2,2,1]\n",
    "lst2 = [1,4,2,3,2,1]\n",
    "new = find_intersection(lst1,lst2)\n",
    "print(new)      "
   ]
  },
  {
   "cell_type": "code",
   "execution_count": 7,
   "id": "63e988fb-56af-4821-a1fd-10c1e34a385a",
   "metadata": {},
   "outputs": [
    {
     "name": "stdout",
     "output_type": "stream",
     "text": [
      "['apple', 'cherry']\n"
     ]
    }
   ],
   "source": [
    "def find_intersection(lst1,lst2):\n",
    "    new_lst = []\n",
    "    for i in lst1:\n",
    "        for j in lst2:\n",
    "            if i == j and i not in new_lst:\n",
    "                new_lst.append(i)\n",
    "    return new_lst\n",
    "\n",
    "lst1 = [\"apple\",\"banana\",\"cherry\"]\n",
    "lst2 = [\"apple\",\"mango\",\"cherry\"]\n",
    "new = find_intersection(lst1,lst2)\n",
    "print(new)      "
   ]
  },
  {
   "cell_type": "code",
   "execution_count": null,
   "id": "59cc3b5a-9faf-4fef-a39e-8b59ff50a241",
   "metadata": {},
   "outputs": [],
   "source": []
  }
 ],
 "metadata": {
  "kernelspec": {
   "display_name": "anaconda-ai-2024.04-py310",
   "language": "python",
   "name": "conda-env-anaconda-ai-2024.04-py310-py"
  },
  "language_info": {
   "codemirror_mode": {
    "name": "ipython",
    "version": 3
   },
   "file_extension": ".py",
   "mimetype": "text/x-python",
   "name": "python",
   "nbconvert_exporter": "python",
   "pygments_lexer": "ipython3",
   "version": "3.10.13"
  }
 },
 "nbformat": 4,
 "nbformat_minor": 5
}
